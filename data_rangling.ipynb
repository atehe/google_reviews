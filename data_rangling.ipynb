{
 "cells": [
  {
   "cell_type": "code",
   "execution_count": 101,
   "metadata": {},
   "outputs": [
    {
     "data": {
      "text/html": [
       "<div>\n",
       "<style scoped>\n",
       "    .dataframe tbody tr th:only-of-type {\n",
       "        vertical-align: middle;\n",
       "    }\n",
       "\n",
       "    .dataframe tbody tr th {\n",
       "        vertical-align: top;\n",
       "    }\n",
       "\n",
       "    .dataframe thead th {\n",
       "        text-align: right;\n",
       "    }\n",
       "</style>\n",
       "<table border=\"1\" class=\"dataframe\">\n",
       "  <thead>\n",
       "    <tr style=\"text-align: right;\">\n",
       "      <th></th>\n",
       "      <th>query</th>\n",
       "      <th>Review URL</th>\n",
       "      <th>Extracted Vendor</th>\n",
       "      <th>Number of Reviews</th>\n",
       "      <th>Average Stars</th>\n",
       "      <th>Number of 1 Star Reviews</th>\n",
       "      <th>Number of 2 Stars Reviews</th>\n",
       "      <th>Number of 3 Stars Reviews</th>\n",
       "      <th>Number of 4 Stars Reviews</th>\n",
       "      <th>Number of 5 Stars Reviews</th>\n",
       "      <th>Name</th>\n",
       "      <th>Number of Stars</th>\n",
       "      <th>Comment</th>\n",
       "      <th>Time</th>\n",
       "      <th>Owner Response</th>\n",
       "      <th>Owner Response Time</th>\n",
       "      <th>API URL</th>\n",
       "    </tr>\n",
       "  </thead>\n",
       "  <tbody>\n",
       "    <tr>\n",
       "      <th>0</th>\n",
       "      <td>14 Hills</td>\n",
       "      <td>https://www.google.com/maps/place/14+Hills/@53...</td>\n",
       "      <td>14 Hills</td>\n",
       "      <td>794.0</td>\n",
       "      <td>4.3</td>\n",
       "      <td>49.0</td>\n",
       "      <td>38.0</td>\n",
       "      <td>65.0</td>\n",
       "      <td>154.0</td>\n",
       "      <td>488.0</td>\n",
       "      <td>Chlo C</td>\n",
       "      <td>4</td>\n",
       "      <td>Had a lovely time at 14 hills. The food was de...</td>\n",
       "      <td>2022-02-05 15:12:04</td>\n",
       "      <td>None</td>\n",
       "      <td>None</td>\n",
       "      <td>https://www.google.com/maps/preview/review/lis...</td>\n",
       "    </tr>\n",
       "    <tr>\n",
       "      <th>1</th>\n",
       "      <td>14 Hills</td>\n",
       "      <td>https://www.google.com/maps/place/14+Hills/@53...</td>\n",
       "      <td>14 Hills</td>\n",
       "      <td>794.0</td>\n",
       "      <td>4.3</td>\n",
       "      <td>49.0</td>\n",
       "      <td>38.0</td>\n",
       "      <td>65.0</td>\n",
       "      <td>154.0</td>\n",
       "      <td>488.0</td>\n",
       "      <td>Matt Coles</td>\n",
       "      <td>5</td>\n",
       "      <td>Lovely setting, lovely food, we had lobster an...</td>\n",
       "      <td>2022-04-16 18:32:39</td>\n",
       "      <td>Dear Mr Coles,Thank you for the wonderful revi...</td>\n",
       "      <td>2022-04-19 17:15:12</td>\n",
       "      <td>https://www.google.com/maps/preview/review/lis...</td>\n",
       "    </tr>\n",
       "    <tr>\n",
       "      <th>2</th>\n",
       "      <td>14 Hills</td>\n",
       "      <td>https://www.google.com/maps/place/14+Hills/@53...</td>\n",
       "      <td>14 Hills</td>\n",
       "      <td>794.0</td>\n",
       "      <td>4.3</td>\n",
       "      <td>49.0</td>\n",
       "      <td>38.0</td>\n",
       "      <td>65.0</td>\n",
       "      <td>154.0</td>\n",
       "      <td>488.0</td>\n",
       "      <td>Catherine Rickard</td>\n",
       "      <td>5</td>\n",
       "      <td>Today...  went to 14 Hills for dinner with my ...</td>\n",
       "      <td>2022-01-18 23:51:24</td>\n",
       "      <td>Dear Mrs Rickard,Thank you  for your feedback!...</td>\n",
       "      <td>2022-01-18 21:30:04</td>\n",
       "      <td>https://www.google.com/maps/preview/review/lis...</td>\n",
       "    </tr>\n",
       "    <tr>\n",
       "      <th>3</th>\n",
       "      <td>14 Hills</td>\n",
       "      <td>https://www.google.com/maps/place/14+Hills/@53...</td>\n",
       "      <td>14 Hills</td>\n",
       "      <td>794.0</td>\n",
       "      <td>4.3</td>\n",
       "      <td>49.0</td>\n",
       "      <td>38.0</td>\n",
       "      <td>65.0</td>\n",
       "      <td>154.0</td>\n",
       "      <td>488.0</td>\n",
       "      <td>Bahar</td>\n",
       "      <td>4</td>\n",
       "      <td>This was a very pretty restaurant with good se...</td>\n",
       "      <td>2022-01-25 14:30:56</td>\n",
       "      <td>Dear B,Thank you for finding the time to leave...</td>\n",
       "      <td>2022-01-25 19:09:28</td>\n",
       "      <td>https://www.google.com/maps/preview/review/lis...</td>\n",
       "    </tr>\n",
       "    <tr>\n",
       "      <th>4</th>\n",
       "      <td>14 Hills</td>\n",
       "      <td>https://www.google.com/maps/place/14+Hills/@53...</td>\n",
       "      <td>14 Hills</td>\n",
       "      <td>794.0</td>\n",
       "      <td>4.3</td>\n",
       "      <td>49.0</td>\n",
       "      <td>38.0</td>\n",
       "      <td>65.0</td>\n",
       "      <td>154.0</td>\n",
       "      <td>488.0</td>\n",
       "      <td>Kibibe Bailey</td>\n",
       "      <td>4</td>\n",
       "      <td>14 Hills is a good spot. Definitely somewhere ...</td>\n",
       "      <td>2022-02-05 19:35:02</td>\n",
       "      <td>None</td>\n",
       "      <td>None</td>\n",
       "      <td>https://www.google.com/maps/preview/review/lis...</td>\n",
       "    </tr>\n",
       "  </tbody>\n",
       "</table>\n",
       "</div>"
      ],
      "text/plain": [
       "      query                                         Review URL  \\\n",
       "0  14 Hills  https://www.google.com/maps/place/14+Hills/@53...   \n",
       "1  14 Hills  https://www.google.com/maps/place/14+Hills/@53...   \n",
       "2  14 Hills  https://www.google.com/maps/place/14+Hills/@53...   \n",
       "3  14 Hills  https://www.google.com/maps/place/14+Hills/@53...   \n",
       "4  14 Hills  https://www.google.com/maps/place/14+Hills/@53...   \n",
       "\n",
       "  Extracted Vendor  Number of Reviews  Average Stars  \\\n",
       "0         14 Hills              794.0            4.3   \n",
       "1         14 Hills              794.0            4.3   \n",
       "2         14 Hills              794.0            4.3   \n",
       "3         14 Hills              794.0            4.3   \n",
       "4         14 Hills              794.0            4.3   \n",
       "\n",
       "   Number of 1 Star Reviews  Number of 2 Stars Reviews  \\\n",
       "0                      49.0                       38.0   \n",
       "1                      49.0                       38.0   \n",
       "2                      49.0                       38.0   \n",
       "3                      49.0                       38.0   \n",
       "4                      49.0                       38.0   \n",
       "\n",
       "   Number of 3 Stars Reviews  Number of 4 Stars Reviews  \\\n",
       "0                       65.0                      154.0   \n",
       "1                       65.0                      154.0   \n",
       "2                       65.0                      154.0   \n",
       "3                       65.0                      154.0   \n",
       "4                       65.0                      154.0   \n",
       "\n",
       "   Number of 5 Stars Reviews               Name Number of Stars  \\\n",
       "0                      488.0             Chlo C               4   \n",
       "1                      488.0         Matt Coles               5   \n",
       "2                      488.0  Catherine Rickard               5   \n",
       "3                      488.0              Bahar               4   \n",
       "4                      488.0      Kibibe Bailey               4   \n",
       "\n",
       "                                             Comment                 Time  \\\n",
       "0  Had a lovely time at 14 hills. The food was de...  2022-02-05 15:12:04   \n",
       "1  Lovely setting, lovely food, we had lobster an...  2022-04-16 18:32:39   \n",
       "2  Today...  went to 14 Hills for dinner with my ...  2022-01-18 23:51:24   \n",
       "3  This was a very pretty restaurant with good se...  2022-01-25 14:30:56   \n",
       "4  14 Hills is a good spot. Definitely somewhere ...  2022-02-05 19:35:02   \n",
       "\n",
       "                                      Owner Response  Owner Response Time  \\\n",
       "0                                               None                 None   \n",
       "1  Dear Mr Coles,Thank you for the wonderful revi...  2022-04-19 17:15:12   \n",
       "2  Dear Mrs Rickard,Thank you  for your feedback!...  2022-01-18 21:30:04   \n",
       "3  Dear B,Thank you for finding the time to leave...  2022-01-25 19:09:28   \n",
       "4                                               None                 None   \n",
       "\n",
       "                                             API URL  \n",
       "0  https://www.google.com/maps/preview/review/lis...  \n",
       "1  https://www.google.com/maps/preview/review/lis...  \n",
       "2  https://www.google.com/maps/preview/review/lis...  \n",
       "3  https://www.google.com/maps/preview/review/lis...  \n",
       "4  https://www.google.com/maps/preview/review/lis...  "
      ]
     },
     "execution_count": 101,
     "metadata": {},
     "output_type": "execute_result"
    }
   ],
   "source": [
    "import pandas as pd\n",
    "df = pd.read_csv('map_review.csv')\n",
    "df.head()\n"
   ]
  },
  {
   "cell_type": "code",
   "execution_count": 102,
   "metadata": {},
   "outputs": [
    {
     "data": {
      "text/plain": [
       "(23990, 17)"
      ]
     },
     "execution_count": 102,
     "metadata": {},
     "output_type": "execute_result"
    }
   ],
   "source": [
    "df.drop_duplicates(inplace=True)\n",
    "df.shape"
   ]
  },
  {
   "cell_type": "code",
   "execution_count": 103,
   "metadata": {},
   "outputs": [
    {
     "data": {
      "text/plain": [
       "query                         1162\n",
       "Review URL                    1173\n",
       "Extracted Vendor              1143\n",
       "Number of Reviews              840\n",
       "Average Stars                   25\n",
       "Number of 1 Star Reviews       182\n",
       "Number of 2 Stars Reviews      162\n",
       "Number of 3 Stars Reviews      301\n",
       "Number of 4 Stars Reviews      491\n",
       "Number of 5 Stars Reviews      731\n",
       "Name                         19756\n",
       "Number of Stars                  6\n",
       "Comment                      22477\n",
       "Time                         22690\n",
       "Owner Response                8570\n",
       "Owner Response Time           8858\n",
       "API URL                       2429\n",
       "dtype: int64"
      ]
     },
     "execution_count": 103,
     "metadata": {},
     "output_type": "execute_result"
    }
   ],
   "source": [
    "df.nunique()"
   ]
  },
  {
   "cell_type": "code",
   "execution_count": 104,
   "metadata": {},
   "outputs": [],
   "source": [
    "def validate_extracted(actual, extracted):\n",
    "    actual_words = actual.replace('-',' ').replace(',','').replace(\"'\", '').lower().split()\n",
    "    extracted_words = extracted.replace('-',' ').replace(',','').replace(\"'\", '').lower().split()\n",
    "    match_num = 0\n",
    "    for word in extracted_words:\n",
    "        if word in actual_words:\n",
    "            match_num += 1\n",
    "        \n",
    "    if match_num > len(actual_words)//2:\n",
    "        return True\n",
    "    else:\n",
    "        return False"
   ]
  },
  {
   "cell_type": "markdown",
   "metadata": {},
   "source": [
    "## Fiter to get only 5 star ratings and validate"
   ]
  },
  {
   "cell_type": "code",
   "execution_count": 106,
   "metadata": {},
   "outputs": [],
   "source": [
    "import numpy as np\n",
    "df['Number of Stars']= df['Number of Stars'].replace('None', np.nan)"
   ]
  },
  {
   "cell_type": "code",
   "execution_count": 107,
   "metadata": {},
   "outputs": [],
   "source": [
    "df['Number of Stars'] = df['Number of Stars'].astype('float')"
   ]
  },
  {
   "cell_type": "code",
   "execution_count": 108,
   "metadata": {},
   "outputs": [],
   "source": [
    "df.sort_values(by='Number of Stars', ascending=False, inplace=True)"
   ]
  },
  {
   "cell_type": "code",
   "execution_count": 109,
   "metadata": {},
   "outputs": [
    {
     "name": "stderr",
     "output_type": "stream",
     "text": [
      "/tmp/ipykernel_149616/1886995713.py:10: SettingWithCopyWarning: \n",
      "A value is trying to be set on a copy of a slice from a DataFrame\n",
      "\n",
      "See the caveats in the documentation: https://pandas.pydata.org/pandas-docs/stable/user_guide/indexing.html#returning-a-view-versus-a-copy\n",
      "  five_star_df.sort_values(by='Number of Stars', ascending=False, inplace=True)\n"
     ]
    }
   ],
   "source": [
    "five_star_dfs = []\n",
    "for vendor, extracted_name in df[['query','Extracted Vendor']].drop_duplicates().values:\n",
    "    vendor_df = df[df['query'] == vendor]\n",
    "    five_star_df  = vendor_df[vendor_df['Number of Stars'] == 5]\n",
    "    is_validated = validate_extracted(vendor,extracted_name)\n",
    "\n",
    "    if len(five_star_df) >= 5 and is_validated:\n",
    "        five_star_dfs.append(five_star_df.iloc[:5, :])\n",
    "    elif len(vendor_df) >= 5 and is_validated:\n",
    "        five_star_df.sort_values(by='Number of Stars', ascending=False, inplace=True)\n",
    "        five_star_dfs.append(five_star_df.iloc[:5, :])\n",
    "    elif is_validated:\n",
    "        five_star_dfs.append(five_star_df)\n",
    "\n",
    "\n",
    "clean_df = pd.concat(five_star_dfs, axis=0, ignore_index=True)\n",
    "\n",
    "    \n"
   ]
  },
  {
   "cell_type": "code",
   "execution_count": 114,
   "metadata": {},
   "outputs": [
    {
     "data": {
      "text/plain": [
       "Vendor                        970\n",
       "Review URL                    971\n",
       "Extracted Vendor              961\n",
       "Number of Reviews             739\n",
       "Average Stars                  23\n",
       "Number of 1 Star Reviews      166\n",
       "Number of 2 Stars Reviews     147\n",
       "Number of 3 Stars Reviews     280\n",
       "Number of 4 Stars Reviews     442\n",
       "Number of 5 Stars Reviews     658\n",
       "Name                         4586\n",
       "Number of Stars                 1\n",
       "Comment                      4725\n",
       "Time                         4781\n",
       "Owner Response               1879\n",
       "Owner Response Time          1934\n",
       "API URL                      1562\n",
       "dtype: int64"
      ]
     },
     "execution_count": 114,
     "metadata": {},
     "output_type": "execute_result"
    }
   ],
   "source": [
    "clean_df.rename(columns={'query':'Vendor'}, inplace=True)\n",
    "clean_df.nunique()"
   ]
  },
  {
   "cell_type": "code",
   "execution_count": 115,
   "metadata": {},
   "outputs": [],
   "source": [
    "clean_df.to_csv('googlemap_reviews.csv', index=None)"
   ]
  },
  {
   "cell_type": "code",
   "execution_count": 78,
   "metadata": {},
   "outputs": [],
   "source": [
    "fulll_df = pd.read_csv('map_review.csv')\n"
   ]
  },
  {
   "cell_type": "code",
   "execution_count": 112,
   "metadata": {},
   "outputs": [
    {
     "data": {
      "text/plain": [
       "Vendor Name    1231\n",
       "Author         1228\n",
       "Unnamed: 2        1\n",
       "dtype: int64"
      ]
     },
     "execution_count": 112,
     "metadata": {},
     "output_type": "execute_result"
    }
   ],
   "source": [
    "vendor_df =pd.read_csv('Vendors to scrape - Sheet1.csv')\n",
    "vendor_df.nunique()"
   ]
  },
  {
   "cell_type": "code",
   "execution_count": 80,
   "metadata": {},
   "outputs": [],
   "source": [
    "scraped = fulll_df['query'].unique()"
   ]
  },
  {
   "cell_type": "code",
   "execution_count": 81,
   "metadata": {},
   "outputs": [
    {
     "data": {
      "text/html": [
       "<div>\n",
       "<style scoped>\n",
       "    .dataframe tbody tr th:only-of-type {\n",
       "        vertical-align: middle;\n",
       "    }\n",
       "\n",
       "    .dataframe tbody tr th {\n",
       "        vertical-align: top;\n",
       "    }\n",
       "\n",
       "    .dataframe thead th {\n",
       "        text-align: right;\n",
       "    }\n",
       "</style>\n",
       "<table border=\"1\" class=\"dataframe\">\n",
       "  <thead>\n",
       "    <tr style=\"text-align: right;\">\n",
       "      <th></th>\n",
       "      <th>Vendor Name</th>\n",
       "      <th>Author</th>\n",
       "      <th>Unnamed: 2</th>\n",
       "    </tr>\n",
       "  </thead>\n",
       "  <tbody>\n",
       "    <tr>\n",
       "      <th>0</th>\n",
       "      <td>100 Queen’s Gate</td>\n",
       "      <td>100queensgate</td>\n",
       "      <td>NaN</td>\n",
       "    </tr>\n",
       "    <tr>\n",
       "      <th>2</th>\n",
       "      <td>116 Pall Mall</td>\n",
       "      <td>116pallmall</td>\n",
       "      <td>NaN</td>\n",
       "    </tr>\n",
       "    <tr>\n",
       "      <th>28</th>\n",
       "      <td>Amazing Grace</td>\n",
       "      <td>amazinggraceldn</td>\n",
       "      <td>NaN</td>\n",
       "    </tr>\n",
       "    <tr>\n",
       "      <th>31</th>\n",
       "      <td>Angel London N6</td>\n",
       "      <td>theangelhighgate</td>\n",
       "      <td>NaN</td>\n",
       "    </tr>\n",
       "    <tr>\n",
       "      <th>32</th>\n",
       "      <td>Angela Coomey</td>\n",
       "      <td>angelacoomey</td>\n",
       "      <td>NaN</td>\n",
       "    </tr>\n",
       "    <tr>\n",
       "      <th>...</th>\n",
       "      <td>...</td>\n",
       "      <td>...</td>\n",
       "      <td>...</td>\n",
       "    </tr>\n",
       "    <tr>\n",
       "      <th>1198</th>\n",
       "      <td>We Are FSTVL</td>\n",
       "      <td>wearefstvl</td>\n",
       "      <td>NaN</td>\n",
       "    </tr>\n",
       "    <tr>\n",
       "      <th>1201</th>\n",
       "      <td>West End LIVE</td>\n",
       "      <td>westendlive</td>\n",
       "      <td>NaN</td>\n",
       "    </tr>\n",
       "    <tr>\n",
       "      <th>1209</th>\n",
       "      <td>White Post</td>\n",
       "      <td>whitepostlondon</td>\n",
       "      <td>NaN</td>\n",
       "    </tr>\n",
       "    <tr>\n",
       "      <th>1217</th>\n",
       "      <td>Wimbledon</td>\n",
       "      <td>wimbledon</td>\n",
       "      <td>NaN</td>\n",
       "    </tr>\n",
       "    <tr>\n",
       "      <th>1228</th>\n",
       "      <td>Zabludowicz Collection</td>\n",
       "      <td>zabludowicz_collection</td>\n",
       "      <td>NaN</td>\n",
       "    </tr>\n",
       "  </tbody>\n",
       "</table>\n",
       "<p>69 rows × 3 columns</p>\n",
       "</div>"
      ],
      "text/plain": [
       "                 Vendor Name                  Author Unnamed: 2\n",
       "0           100 Queen’s Gate           100queensgate        NaN\n",
       "2              116 Pall Mall             116pallmall        NaN\n",
       "28             Amazing Grace         amazinggraceldn        NaN\n",
       "31           Angel London N6        theangelhighgate        NaN\n",
       "32             Angela Coomey            angelacoomey        NaN\n",
       "...                      ...                     ...        ...\n",
       "1198            We Are FSTVL              wearefstvl        NaN\n",
       "1201           West End LIVE             westendlive        NaN\n",
       "1209              White Post         whitepostlondon        NaN\n",
       "1217               Wimbledon               wimbledon        NaN\n",
       "1228  Zabludowicz Collection  zabludowicz_collection        NaN\n",
       "\n",
       "[69 rows x 3 columns]"
      ]
     },
     "execution_count": 81,
     "metadata": {},
     "output_type": "execute_result"
    }
   ],
   "source": [
    "not_scraped = vendor_df[~vendor_df['Vendor Name'].isin(scraped)]\n",
    "not_scraped"
   ]
  },
  {
   "cell_type": "code",
   "execution_count": 54,
   "metadata": {},
   "outputs": [],
   "source": [
    "not_scraped.to_csv('filr.csv', index=None)"
   ]
  }
 ],
 "metadata": {
  "interpreter": {
   "hash": "bc6b9eb75f20ddffb1d3b40ef75b57e8b94d49d418deb47fb8c3c7c037dbd6d7"
  },
  "kernelspec": {
   "display_name": "Python 3.10.4 ('data')",
   "language": "python",
   "name": "python3"
  },
  "language_info": {
   "codemirror_mode": {
    "name": "ipython",
    "version": 3
   },
   "file_extension": ".py",
   "mimetype": "text/x-python",
   "name": "python",
   "nbconvert_exporter": "python",
   "pygments_lexer": "ipython3",
   "version": "3.10.4"
  },
  "orig_nbformat": 4
 },
 "nbformat": 4,
 "nbformat_minor": 2
}
